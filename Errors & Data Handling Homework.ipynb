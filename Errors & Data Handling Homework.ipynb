{
 "cells": [
  {
   "cell_type": "code",
   "execution_count": 2,
   "id": "dac08557",
   "metadata": {},
   "outputs": [
    {
     "name": "stdout",
     "output_type": "stream",
     "text": [
      "An error occured\n"
     ]
    }
   ],
   "source": [
    "#Q1\n",
    "try:\n",
    "    for i in ['a','b','c']:\n",
    "        print(i**2)\n",
    "except:\n",
    "    print('An error occured')"
   ]
  },
  {
   "cell_type": "code",
   "execution_count": 3,
   "id": "d96d9d64",
   "metadata": {},
   "outputs": [
    {
     "name": "stdout",
     "output_type": "stream",
     "text": [
      "An error occured\n",
      "All done\n"
     ]
    }
   ],
   "source": [
    "#Q2\n",
    "try:\n",
    "    x = 5\n",
    "    y = 0\n",
    "\n",
    "    z = x/y\n",
    "except: \n",
    "    print('An error occured')\n",
    "finally:\n",
    "    print('All done')"
   ]
  },
  {
   "cell_type": "code",
   "execution_count": 4,
   "id": "92dc5d4a",
   "metadata": {},
   "outputs": [],
   "source": [
    "#Q3\n",
    "def ask():\n",
    "    while True:\n",
    "        try:\n",
    "            result = int(input('Input an integer: '))\n",
    "        except:\n",
    "            print('An error occured! Please try again!')\n",
    "        else:\n",
    "            print('Thank you, your number squared is: ',result**2)\n",
    "            break"
   ]
  },
  {
   "cell_type": "code",
   "execution_count": 5,
   "id": "07041641",
   "metadata": {},
   "outputs": [
    {
     "name": "stdout",
     "output_type": "stream",
     "text": [
      "Input an integer: null\n",
      "An error occured! Please try again!\n",
      "Input an integer: 2\n",
      "Thank you, your number squared is:  4\n"
     ]
    }
   ],
   "source": [
    "ask()"
   ]
  },
  {
   "cell_type": "code",
   "execution_count": null,
   "id": "9c44a7da",
   "metadata": {},
   "outputs": [],
   "source": []
  }
 ],
 "metadata": {
  "kernelspec": {
   "display_name": "Python 3",
   "language": "python",
   "name": "python3"
  },
  "language_info": {
   "codemirror_mode": {
    "name": "ipython",
    "version": 3
   },
   "file_extension": ".py",
   "mimetype": "text/x-python",
   "name": "python",
   "nbconvert_exporter": "python",
   "pygments_lexer": "ipython3",
   "version": "3.8.8"
  }
 },
 "nbformat": 4,
 "nbformat_minor": 5
}
